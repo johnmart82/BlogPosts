{
    "metadata": {
        "kernelspec": {
            "name": "SQL",
            "display_name": "SQL",
            "language": "sql"
        },
        "language_info": {
            "name": "sql",
            "version": ""
        }
    },
    "nbformat_minor": 2,
    "nbformat": 4,
    "cells": [
        {
            "cell_type": "markdown",
            "source": [
                "This query will show us all user databases which are on the instance and whether they are encrypted."
            ],
            "metadata": {
                "azdata_cell_guid": "cbdcb39b-fd7c-473a-8c94-cf68be2a6cd3"
            }
        },
        {
            "cell_type": "code",
            "source": [
                "SELECT db.name,\r\n",
                "       db.create_date,\r\n",
                "       db.compatibility_level,\r\n",
                "       db.collation_name,\r\n",
                "       db.user_access_desc,\r\n",
                "       db.state_desc,\r\n",
                "       db.recovery_model_desc,\r\n",
                "       db.page_verify_option_desc,\r\n",
                "       db.is_encrypted\r\n",
                "FROM sys.databases AS db\r\n",
                "WHERE db.database_id > 4\r\n",
                ";"
            ],
            "metadata": {
                "azdata_cell_guid": "e6c9b9df-9efb-400c-9e26-a999d0a9ad83"
            },
            "outputs": [],
            "execution_count": null
        },
        {
            "cell_type": "markdown",
            "source": [
                " Enable TDE on user database in Managed Instance."
            ],
            "metadata": {
                "azdata_cell_guid": "bacb0b62-647c-4983-bb70-d0f2c5ca4893"
            }
        },
        {
            "cell_type": "code",
            "source": [
                "ALTER DATABASE AdventureWorks2019\r\n",
                "\tSET ENCRYPTION ON;\r\n",
                "GO"
            ],
            "metadata": {
                "azdata_cell_guid": "508c2401-f872-4cda-b02f-0115d1b88383"
            },
            "outputs": [],
            "execution_count": null
        },
        {
            "cell_type": "markdown",
            "source": [
                " Check on the status of the encryption process for the Adventureworks2019 database."
            ],
            "metadata": {
                "azdata_cell_guid": "08901589-c603-412e-8970-8761b6922adc"
            }
        },
        {
            "cell_type": "code",
            "source": [
                "DECLARE @DatabaseName SYSNAME = 'Adventureworks2019';\r\n",
                "\r\n",
                "SELECT DB_NAME(dek.database_id) AS DbName,\r\n",
                "       dek.encryption_scan_state_desc,\r\n",
                "       dek.encryption_state_desc,\r\n",
                "       dek.percent_complete,\r\n",
                "       dek.encryptor_thumbprint,\r\n",
                "       dek.encryptor_type\r\n",
                "FROM sys.dm_database_encryption_keys AS dek\r\n",
                "WHERE dek.database_id = DB_ID(@DatabaseName)\r\n",
                ";"
            ],
            "metadata": {
                "azdata_cell_guid": "a4d148c7-e81e-4777-add8-2eb6775d0627"
            },
            "outputs": [],
            "execution_count": null
        }
    ]
}